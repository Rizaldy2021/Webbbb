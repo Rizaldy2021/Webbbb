{
 "cells": [
  {
   "cell_type": "code",
   "execution_count": 1,
   "metadata": {},
   "outputs": [],
   "source": [
    "import pandas as pd"
   ]
  },
  {
   "cell_type": "code",
   "execution_count": 2,
   "metadata": {},
   "outputs": [
    {
     "data": {
      "text/html": [
       "<div>\n",
       "<style scoped>\n",
       "    .dataframe tbody tr th:only-of-type {\n",
       "        vertical-align: middle;\n",
       "    }\n",
       "\n",
       "    .dataframe tbody tr th {\n",
       "        vertical-align: top;\n",
       "    }\n",
       "\n",
       "    .dataframe thead th {\n",
       "        text-align: right;\n",
       "    }\n",
       "</style>\n",
       "<table border=\"1\" class=\"dataframe\">\n",
       "  <thead>\n",
       "    <tr style=\"text-align: right;\">\n",
       "      <th></th>\n",
       "      <th>artist</th>\n",
       "      <th>song</th>\n",
       "      <th>link</th>\n",
       "      <th>text</th>\n",
       "    </tr>\n",
       "  </thead>\n",
       "  <tbody>\n",
       "    <tr>\n",
       "      <th>0</th>\n",
       "      <td>ABBA</td>\n",
       "      <td>Ahe's My Kind Of Girl</td>\n",
       "      <td>/a/abba/ahes+my+kind+of+girl_20598417.html</td>\n",
       "      <td>Look at her face, it's a wonderful face  \\r\\nA...</td>\n",
       "    </tr>\n",
       "    <tr>\n",
       "      <th>1</th>\n",
       "      <td>ABBA</td>\n",
       "      <td>Andante, Andante</td>\n",
       "      <td>/a/abba/andante+andante_20002708.html</td>\n",
       "      <td>Take it easy with me, please  \\r\\nTouch me gen...</td>\n",
       "    </tr>\n",
       "    <tr>\n",
       "      <th>2</th>\n",
       "      <td>ABBA</td>\n",
       "      <td>As Good As New</td>\n",
       "      <td>/a/abba/as+good+as+new_20003033.html</td>\n",
       "      <td>I'll never know why I had to go  \\r\\nWhy I had...</td>\n",
       "    </tr>\n",
       "    <tr>\n",
       "      <th>3</th>\n",
       "      <td>ABBA</td>\n",
       "      <td>Bang</td>\n",
       "      <td>/a/abba/bang_20598415.html</td>\n",
       "      <td>Making somebody happy is a question of give an...</td>\n",
       "    </tr>\n",
       "    <tr>\n",
       "      <th>4</th>\n",
       "      <td>ABBA</td>\n",
       "      <td>Bang-A-Boomerang</td>\n",
       "      <td>/a/abba/bang+a+boomerang_20002668.html</td>\n",
       "      <td>Making somebody happy is a question of give an...</td>\n",
       "    </tr>\n",
       "    <tr>\n",
       "      <th>5</th>\n",
       "      <td>ABBA</td>\n",
       "      <td>Burning My Bridges</td>\n",
       "      <td>/a/abba/burning+my+bridges_20003011.html</td>\n",
       "      <td>Well, you hoot and you holler and you make me ...</td>\n",
       "    </tr>\n",
       "    <tr>\n",
       "      <th>6</th>\n",
       "      <td>ABBA</td>\n",
       "      <td>Cassandra</td>\n",
       "      <td>/a/abba/cassandra_20002811.html</td>\n",
       "      <td>Down in the street they're all singing and sho...</td>\n",
       "    </tr>\n",
       "    <tr>\n",
       "      <th>7</th>\n",
       "      <td>ABBA</td>\n",
       "      <td>Chiquitita</td>\n",
       "      <td>/a/abba/chiquitita_20002978.html</td>\n",
       "      <td>Chiquitita, tell me what's wrong  \\r\\nYou're e...</td>\n",
       "    </tr>\n",
       "    <tr>\n",
       "      <th>8</th>\n",
       "      <td>ABBA</td>\n",
       "      <td>Crazy World</td>\n",
       "      <td>/a/abba/crazy+world_20003013.html</td>\n",
       "      <td>I was out with the morning sun  \\r\\nCouldn't s...</td>\n",
       "    </tr>\n",
       "    <tr>\n",
       "      <th>9</th>\n",
       "      <td>ABBA</td>\n",
       "      <td>Crying Over You</td>\n",
       "      <td>/a/abba/crying+over+you_20177611.html</td>\n",
       "      <td>I'm waitin' for you baby  \\r\\nI'm sitting all ...</td>\n",
       "    </tr>\n",
       "  </tbody>\n",
       "</table>\n",
       "</div>"
      ],
      "text/plain": [
       "  artist                   song                                        link  \\\n",
       "0   ABBA  Ahe's My Kind Of Girl  /a/abba/ahes+my+kind+of+girl_20598417.html   \n",
       "1   ABBA       Andante, Andante       /a/abba/andante+andante_20002708.html   \n",
       "2   ABBA         As Good As New        /a/abba/as+good+as+new_20003033.html   \n",
       "3   ABBA                   Bang                  /a/abba/bang_20598415.html   \n",
       "4   ABBA       Bang-A-Boomerang      /a/abba/bang+a+boomerang_20002668.html   \n",
       "5   ABBA     Burning My Bridges    /a/abba/burning+my+bridges_20003011.html   \n",
       "6   ABBA              Cassandra             /a/abba/cassandra_20002811.html   \n",
       "7   ABBA             Chiquitita            /a/abba/chiquitita_20002978.html   \n",
       "8   ABBA            Crazy World           /a/abba/crazy+world_20003013.html   \n",
       "9   ABBA        Crying Over You       /a/abba/crying+over+you_20177611.html   \n",
       "\n",
       "                                                text  \n",
       "0  Look at her face, it's a wonderful face  \\r\\nA...  \n",
       "1  Take it easy with me, please  \\r\\nTouch me gen...  \n",
       "2  I'll never know why I had to go  \\r\\nWhy I had...  \n",
       "3  Making somebody happy is a question of give an...  \n",
       "4  Making somebody happy is a question of give an...  \n",
       "5  Well, you hoot and you holler and you make me ...  \n",
       "6  Down in the street they're all singing and sho...  \n",
       "7  Chiquitita, tell me what's wrong  \\r\\nYou're e...  \n",
       "8  I was out with the morning sun  \\r\\nCouldn't s...  \n",
       "9  I'm waitin' for you baby  \\r\\nI'm sitting all ...  "
      ]
     },
     "execution_count": 2,
     "metadata": {},
     "output_type": "execute_result"
    }
   ],
   "source": [
    "data = pd.read_csv('spotify_millsongdata.csv')\n",
    "data.head(10)"
   ]
  },
  {
   "cell_type": "code",
   "execution_count": 3,
   "metadata": {},
   "outputs": [
    {
     "data": {
      "text/plain": [
       "(57650, 4)"
      ]
     },
     "execution_count": 3,
     "metadata": {},
     "output_type": "execute_result"
    }
   ],
   "source": [
    "data.shape"
   ]
  },
  {
   "cell_type": "code",
   "execution_count": 4,
   "metadata": {},
   "outputs": [
    {
     "data": {
      "text/plain": [
       "artist    0\n",
       "song      0\n",
       "link      0\n",
       "text      0\n",
       "dtype: int64"
      ]
     },
     "execution_count": 4,
     "metadata": {},
     "output_type": "execute_result"
    }
   ],
   "source": [
    "data.isnull().sum()"
   ]
  },
  {
   "cell_type": "code",
   "execution_count": 5,
   "metadata": {},
   "outputs": [],
   "source": [
    "data = data.drop(['link'], axis='columns')"
   ]
  },
  {
   "cell_type": "code",
   "execution_count": 6,
   "metadata": {},
   "outputs": [
    {
     "data": {
      "text/html": [
       "<div>\n",
       "<style scoped>\n",
       "    .dataframe tbody tr th:only-of-type {\n",
       "        vertical-align: middle;\n",
       "    }\n",
       "\n",
       "    .dataframe tbody tr th {\n",
       "        vertical-align: top;\n",
       "    }\n",
       "\n",
       "    .dataframe thead th {\n",
       "        text-align: right;\n",
       "    }\n",
       "</style>\n",
       "<table border=\"1\" class=\"dataframe\">\n",
       "  <thead>\n",
       "    <tr style=\"text-align: right;\">\n",
       "      <th></th>\n",
       "      <th>artist</th>\n",
       "      <th>song</th>\n",
       "      <th>text</th>\n",
       "    </tr>\n",
       "  </thead>\n",
       "  <tbody>\n",
       "    <tr>\n",
       "      <th>0</th>\n",
       "      <td>ABBA</td>\n",
       "      <td>Ahe's My Kind Of Girl</td>\n",
       "      <td>Look at her face, it's a wonderful face  \\r\\nA...</td>\n",
       "    </tr>\n",
       "    <tr>\n",
       "      <th>1</th>\n",
       "      <td>ABBA</td>\n",
       "      <td>Andante, Andante</td>\n",
       "      <td>Take it easy with me, please  \\r\\nTouch me gen...</td>\n",
       "    </tr>\n",
       "    <tr>\n",
       "      <th>2</th>\n",
       "      <td>ABBA</td>\n",
       "      <td>As Good As New</td>\n",
       "      <td>I'll never know why I had to go  \\r\\nWhy I had...</td>\n",
       "    </tr>\n",
       "    <tr>\n",
       "      <th>3</th>\n",
       "      <td>ABBA</td>\n",
       "      <td>Bang</td>\n",
       "      <td>Making somebody happy is a question of give an...</td>\n",
       "    </tr>\n",
       "    <tr>\n",
       "      <th>4</th>\n",
       "      <td>ABBA</td>\n",
       "      <td>Bang-A-Boomerang</td>\n",
       "      <td>Making somebody happy is a question of give an...</td>\n",
       "    </tr>\n",
       "    <tr>\n",
       "      <th>5</th>\n",
       "      <td>ABBA</td>\n",
       "      <td>Burning My Bridges</td>\n",
       "      <td>Well, you hoot and you holler and you make me ...</td>\n",
       "    </tr>\n",
       "    <tr>\n",
       "      <th>6</th>\n",
       "      <td>ABBA</td>\n",
       "      <td>Cassandra</td>\n",
       "      <td>Down in the street they're all singing and sho...</td>\n",
       "    </tr>\n",
       "    <tr>\n",
       "      <th>7</th>\n",
       "      <td>ABBA</td>\n",
       "      <td>Chiquitita</td>\n",
       "      <td>Chiquitita, tell me what's wrong  \\r\\nYou're e...</td>\n",
       "    </tr>\n",
       "    <tr>\n",
       "      <th>8</th>\n",
       "      <td>ABBA</td>\n",
       "      <td>Crazy World</td>\n",
       "      <td>I was out with the morning sun  \\r\\nCouldn't s...</td>\n",
       "    </tr>\n",
       "    <tr>\n",
       "      <th>9</th>\n",
       "      <td>ABBA</td>\n",
       "      <td>Crying Over You</td>\n",
       "      <td>I'm waitin' for you baby  \\r\\nI'm sitting all ...</td>\n",
       "    </tr>\n",
       "  </tbody>\n",
       "</table>\n",
       "</div>"
      ],
      "text/plain": [
       "  artist                   song  \\\n",
       "0   ABBA  Ahe's My Kind Of Girl   \n",
       "1   ABBA       Andante, Andante   \n",
       "2   ABBA         As Good As New   \n",
       "3   ABBA                   Bang   \n",
       "4   ABBA       Bang-A-Boomerang   \n",
       "5   ABBA     Burning My Bridges   \n",
       "6   ABBA              Cassandra   \n",
       "7   ABBA             Chiquitita   \n",
       "8   ABBA            Crazy World   \n",
       "9   ABBA        Crying Over You   \n",
       "\n",
       "                                                text  \n",
       "0  Look at her face, it's a wonderful face  \\r\\nA...  \n",
       "1  Take it easy with me, please  \\r\\nTouch me gen...  \n",
       "2  I'll never know why I had to go  \\r\\nWhy I had...  \n",
       "3  Making somebody happy is a question of give an...  \n",
       "4  Making somebody happy is a question of give an...  \n",
       "5  Well, you hoot and you holler and you make me ...  \n",
       "6  Down in the street they're all singing and sho...  \n",
       "7  Chiquitita, tell me what's wrong  \\r\\nYou're e...  \n",
       "8  I was out with the morning sun  \\r\\nCouldn't s...  \n",
       "9  I'm waitin' for you baby  \\r\\nI'm sitting all ...  "
      ]
     },
     "execution_count": 6,
     "metadata": {},
     "output_type": "execute_result"
    }
   ],
   "source": [
    "data.head(10)"
   ]
  },
  {
   "cell_type": "code",
   "execution_count": 7,
   "metadata": {},
   "outputs": [
    {
     "data": {
      "text/plain": [
       "\"Look at her face, it's a wonderful face  \\r\\nAnd it means something special to me  \\r\\nLook at the way that she smiles when she sees me  \\r\\nHow lucky can one fellow be?  \\r\\n  \\r\\nShe's just my kind of girl, she makes me feel fine  \\r\\nWho could ever believe that she could be mine?  \\r\\nShe's just my kind of girl, without her I'm blue  \\r\\nAnd if she ever leaves me what could I do, what could I do?  \\r\\n  \\r\\nAnd when we go for a walk in the park  \\r\\nAnd she holds me and squeezes my hand  \\r\\nWe'll go on walking for hours and talking  \\r\\nAbout all the things that we plan  \\r\\n  \\r\\nShe's just my kind of girl, she makes me feel fine  \\r\\nWho could ever believe that she could be mine?  \\r\\nShe's just my kind of girl, without her I'm blue  \\r\\nAnd if she ever leaves me what could I do, what could I do?\\r\\n\\r\\n\""
      ]
     },
     "execution_count": 7,
     "metadata": {},
     "output_type": "execute_result"
    }
   ],
   "source": [
    "data['text'][0]"
   ]
  },
  {
   "cell_type": "code",
   "execution_count": 8,
   "metadata": {},
   "outputs": [
    {
     "data": {
      "text/plain": [
       "0        look at her face, it's a wonderful face  \\r an...\n",
       "1        take it easy with me, please  \\r touch me gent...\n",
       "2        i'll never know why i had to go  \\r why i had ...\n",
       "3        making somebody happy is a question of give an...\n",
       "4        making somebody happy is a question of give an...\n",
       "                               ...                        \n",
       "57645    irie days come on play  \\r let the angels fly ...\n",
       "57646    power to the workers  \\r more power  \\r power ...\n",
       "57647    all you need  \\r is something i'll believe  \\r...\n",
       "57648    northern star  \\r am i frightened  \\r where ca...\n",
       "57649    come in  \\r make yourself at home  \\r i'm a bi...\n",
       "Name: text, Length: 57650, dtype: object"
      ]
     },
     "execution_count": 8,
     "metadata": {},
     "output_type": "execute_result"
    }
   ],
   "source": [
    "data['text'].str.lower().replace(r'^\\w\\s', ' ').replace(r'\\n', ' ', regex = True)"
   ]
  },
  {
   "cell_type": "code",
   "execution_count": 9,
   "metadata": {},
   "outputs": [],
   "source": [
    "import nltk\n",
    "from nltk.stem.porter import PorterStemmer\n",
    "stemmer = PorterStemmer()\n",
    "\n",
    "def tokenization(txt):\n",
    "    tokens = nltk.word_tokenize(txt)\n",
    "    stemming = [stemmer.stem(w) for w in tokens]\n",
    "    return \" \".join(stemming)"
   ]
  },
  {
   "cell_type": "code",
   "execution_count": 10,
   "metadata": {},
   "outputs": [
    {
     "data": {
      "text/plain": [
       "'look at her face'"
      ]
     },
     "execution_count": 10,
     "metadata": {},
     "output_type": "execute_result"
    }
   ],
   "source": [
    "tokenization('look at her face')"
   ]
  },
  {
   "cell_type": "code",
   "execution_count": 11,
   "metadata": {},
   "outputs": [
    {
     "name": "stderr",
     "output_type": "stream",
     "text": [
      "[nltk_data] Downloading package punkt to\n",
      "[nltk_data]     C:\\Users\\ASUS\\AppData\\Roaming\\nltk_data...\n",
      "[nltk_data]   Package punkt is already up-to-date!\n"
     ]
    },
    {
     "data": {
      "text/plain": [
       "True"
      ]
     },
     "execution_count": 11,
     "metadata": {},
     "output_type": "execute_result"
    }
   ],
   "source": [
    "nltk.download('punkt')"
   ]
  },
  {
   "cell_type": "code",
   "execution_count": 12,
   "metadata": {},
   "outputs": [],
   "source": [
    "# data_group = data.groupby(['artist'])['artist'].count()"
   ]
  },
  {
   "cell_type": "code",
   "execution_count": 13,
   "metadata": {},
   "outputs": [],
   "source": [
    "# pd.set_option('display.max_rows', data_group.shape[0]+1)\n",
    "# print(data_group)"
   ]
  },
  {
   "cell_type": "code",
   "execution_count": 14,
   "metadata": {},
   "outputs": [],
   "source": [
    "# df = data.drop_duplicates(subset=['artist'])"
   ]
  },
  {
   "cell_type": "code",
   "execution_count": 15,
   "metadata": {},
   "outputs": [],
   "source": [
    "# df = df.drop(['song', 'text'], axis='columns')"
   ]
  },
  {
   "cell_type": "code",
   "execution_count": 16,
   "metadata": {},
   "outputs": [],
   "source": [
    "import numpy as np\n",
    "# arr = np.array(df)"
   ]
  },
  {
   "cell_type": "code",
   "execution_count": 17,
   "metadata": {},
   "outputs": [],
   "source": [
    "# arr.ravel()"
   ]
  },
  {
   "cell_type": "code",
   "execution_count": 18,
   "metadata": {},
   "outputs": [],
   "source": [
    "arr2 = ['ABBA', 'Ace Of Base', 'Adam Sandler', 'Aerosmith',\n",
    "       'Air Supply', 'Aiza Seguerra', 'Alabama', 'Alan Parsons Project',\n",
    "       'Aled Jones', 'Alice Cooper', 'Alice In Chains', 'Alison Krauss',\n",
    "       'Allman Brothers Band', 'Alphaville', 'America', 'Amy Grant',\n",
    "       'Andrea Bocelli', 'Andy Williams', 'Annie',\n",
    "       'Ariel Rivera', 'Arlo Guthrie', 'Arrogant Worms',\n",
    "       'Barbra Streisand', 'Beach Boys',\n",
    "       'The Beatles', 'Beautiful South', 'Beauty And The Beast',\n",
    "       'Bee Gees', 'Bette Midler', 'Bill Withers', 'Billie Holiday',\n",
    "       'Billy Joel', 'Bing Crosby', 'Black Sabbath', 'Blur', 'Bob Dylan',\n",
    "       'Bob Rivers', 'Bob Seger', 'Boney M.',\n",
    "       'Bonnie Raitt', 'Bosson', 'Bread',\n",
    "       'Bruce Springsteen', 'Bryan White', 'Cake',\n",
    "       'Carly Simon', 'Carol Banawa', 'Carpenters', 'Cat Stevens',\n",
    "       'Celine Dion', 'Cheap Trick', 'Cher',\n",
    "       'Children', 'Chris Rea', 'Christina Aguilera',\n",
    "       'Christmas Songs', 'Christy Moore',\n",
    "       'Chuck Berry', 'Cinderella', 'Clash', 'Cliff Richard',\n",
    "       'Cole Porter', 'Conway Twitty', 'Counting Crows',\n",
    "       'Creedence Clearwater Revival', 'Crowded House', 'Culture Club',\n",
    "       'Cyndi Lauper', 'Dan Fogelberg', 'Dave Matthews Band',\n",
    "       'David Allan Coe', 'David Bowie', 'David Pomeranz',\n",
    "       'Dean Martin', 'Death', 'Deep Purple', 'Def Leppard',\n",
    "       'Depeche Mode', 'Devo', 'Diana Ross',\n",
    "       'Dire Straits', 'Divine', 'Dolly Parton', 'Don Henley',\n",
    "       'Don McLean', 'Don Moen', 'Donna Summer', 'Doobie Brothers',\n",
    "       'Doors', 'Doris Day', 'Dream Theater',\n",
    "       'Dusty Springfield', 'Eagles', 'Eddie Cochran',\n",
    "       'Electric Light Orchestra', 'Ella Fitzgerald', 'Ellie Goulding',\n",
    "       'Elton John', 'Elvis Costello',\n",
    "       'Emmylou Harris', 'Engelbert Humperdinck', 'Enigma',\n",
    "       'Enrique Iglesias', 'Enya', 'Eppu Normaali', 'Erasure',\n",
    "       'Eric Clapton', 'Erik Santos', 'Etta James', 'Europe',\n",
    "       'Eurythmics', 'Everclear', 'Everlast',\n",
    "       'Extreme', 'Fabolous', 'Face To Face', 'Faces',\n",
    "       'Faith Hill', 'Faith No More', 'Falco', 'Fastball',\n",
    "       'Fatboy Slim', 'Fiona Apple', 'Fleetwood Mac',\n",
    "       'Foo Fighters', 'Foreigner', 'Frank Sinatra',\n",
    "       'Frank Zappa', 'Frankie Goes To Hollywood', 'Frankie Laine',\n",
    "       'Frankie Valli', 'Freddie Aguilar', 'Freddie King', 'Free',\n",
    "       'Freestyle', 'Garth Brooks', 'Gary Numan',\n",
    "       'Gary Valenciano', 'Genesis', 'George Formby', 'George Harrison',\n",
    "       'George Jones', 'George Michael', 'George Strait', 'Gino Vannelli',\n",
    "       'Gipsy Kings', 'Glee', 'Glen Campbell', 'Gloria Estefan',\n",
    "       'Gloria Gaynor', 'GMB', 'Gordon Lightfoot', 'Grand Funk Railroad',\n",
    "       'Grateful Dead', 'Grease', 'Great Big Sea',\n",
    "       'Gucci Mane', 'Guided By Voices', 'Halloween',\n",
    "       'Hank Snow', 'Hank Williams', 'Hank Williams Jr.', 'Hanson',\n",
    "       'Happy Mondays', 'Harry Belafonte', 'Harry Connick, Jr.', 'Heart',\n",
    "       'Helloween', 'High School Musical', 'Hillsong', 'Hillsong United',\n",
    "       'HIM', 'Hollies', 'Hooverphonic', 'Horrible Histories',\n",
    "       'Housemartins', 'Howard Jones', 'Human League', 'Ian Hunter',\n",
    "       'Idina Menzel', 'Iggy Pop', 'Il Divo',\n",
    "       'Imago', 'Imperials', 'Incognito', 'Incubus',\n",
    "       'Independence Day', 'Indiana Bible College', 'Indigo Girls',\n",
    "       'Ingrid Michaelson', 'Inna', 'Insane Clown Posse', 'Inside Out',\n",
    "       'INXS', 'Iron Butterfly', 'Iron Maiden', 'Irving Berlin',\n",
    "       'Isley Brothers', 'Israel', 'Israel Houghton', 'Iwan Fals',\n",
    "       'Jackson Browne', 'The Jam', 'James Taylor',\n",
    "       'Janis Joplin', 'Jim Croce',\n",
    "       'Jimi Hendrix', 'Jimmy Buffett',\n",
    "       'John Martyn', 'John McDermott', 'John Mellencamp', 'John Prine',\n",
    "       'John Waite', 'Johnny Cash', 'Joni Mitchell', 'Jose Mari Chan',\n",
    "       'Josh Groban', 'Journey', 'Joy Division', 'Judas Priest', 'Judds',\n",
    "       'Judy Garland',\n",
    "       'Kari Jobe', 'Kate Bush', 'Keith Green',\n",
    "       'Keith Urban', 'Kelly Clarkson', 'Kelly Family', 'Kenny Chesney',\n",
    "       'Kenny Loggins', 'Kenny Rogers', 'Kid Rock', 'The Killers',\n",
    "       'Kim Wilde', 'King Crimson', 'King Diamond', 'Kinks',\n",
    "       'Kirk Franklin', 'Kirsty Maccoll', 'Kiss', 'Koes Plus', 'Korn',\n",
    "       'Kris Kristofferson', 'Kyla', 'Kylie Minogue',\n",
    "       'Lata Mangeshkar', 'Lauryn Hill', 'Lea Salonga',\n",
    "       'Leann Rimes', 'Lenny Kravitz', 'Leo Sayer', 'Leonard Cohen',\n",
    "       'Les Miserables', 'Linda Ronstadt',\n",
    "       'Lionel Richie', 'Little Mix', 'Little Walter', 'LL Cool J',\n",
    "       'Lloyd Cole', 'Lorde', 'Loretta Lynn', 'Lou Reed',\n",
    "       'Louis Armstrong', 'Louis Jordan', 'Lucky Dube', 'Luther Vandross',\n",
    "       'Lynyrd Skynyrd', 'Manowar',\n",
    "       'Marianne Faithfull', 'Marillion', 'Mark Ronson',\n",
    "       'Mary Black', 'Matt Monro', 'Matt Redman',\n",
    "       'Mazzy Star', 'Mc Hammer', 'Meat Loaf', 'Megadeth', 'Men At Work',\n",
    "       'Michael Bolton', 'Michael Buble',\n",
    "       'Michael W. Smith', 'Migos', 'Misfits',\n",
    "       'Modern Talking', 'The Monkees', 'Moody Blues', 'Morrissey', 'Mud',\n",
    "       \"'n Sync\", 'Nat King Cole', 'Natalie Cole', 'Natalie Grant',\n",
    "       'Natalie Imbruglia', 'Nazareth', 'Ne-Yo', 'Neil Diamond',\n",
    "       'Neil Sedaka', 'Neil Young', 'New Order', 'Next To Normal',\n",
    "       'Nick Cave', 'Nick Drake', 'Nickelback',\n",
    "       'Nightwish', 'Nina Simone', 'Nine Inch Nails',\n",
    "       'Nitty Gritty Dirt Band', 'Noa', 'NOFX', 'Norah Jones',\n",
    "       'Notorious B.I.G.', 'O-Zone', 'O.A.R.',\n",
    "       'Ocean Colour Scene', 'Offspring', 'Ofra Haza', 'Oingo Boingo',\n",
    "       \"Old 97's\", 'Oliver', 'Olivia Newton-John', 'Olly Murs', 'Omd',\n",
    "       'Opeth', 'Orphaned Land',\n",
    "       'Oscar Hammerstein', 'Otis Redding', 'Our Lady Peace',\n",
    "       'Out Of Eden', 'Outkast', 'Overkill', 'Ozzy Osbourne',\n",
    "       'Pat Benatar', 'Patsy Cline', 'Patti Smith',\n",
    "       'Paul McCartney', 'Paul Simon', 'Pearl Jam', 'Perry Como',\n",
    "       'Pet Shop Boys', 'Peter Cetera', 'Peter Gabriel', 'Peter Tosh',\n",
    "       'Pharrell Williams', 'Phil Collins', 'Phish',\n",
    "       'Pitbull', 'Planetshakers', 'Pogues',\n",
    "       'Point Of Grace', 'Poison', 'Pretenders', 'Primus', 'Prince',\n",
    "       'Proclaimers', 'Procol Harum', 'Puff Daddy', 'Q-Tip', 'Qntal',\n",
    "       'Quarashi', 'Quarterflash', 'Quasi', 'Queen Adreena',\n",
    "       'Queen Latifah', 'Queens Of The Stone Age', 'Queensryche',\n",
    "       'Quicksand', 'Quicksilver Messenger Service', 'Quiet Riot',\n",
    "       'Quietdrive', 'Quincy Jones', 'Quincy Punx', 'R. Kelly',\n",
    "       'Raffi', 'Rage Against The Machine', 'Rainbow',\n",
    "       'Rammstein', 'Ramones', 'Randy Travis', 'Rascal Flatts',\n",
    "       'Ray Boltz', 'Ray Charles', 'Reba Mcentire',\n",
    "       'Regine Velasquez', 'Religious Music',\n",
    "       'Rem', 'Reo Speedwagon', 'Richard Marx', 'Rick Astley',\n",
    "       'Robbie Williams', 'Rod Stewart', 'Roxette',\n",
    "       'Roxy Music', 'Roy Orbison', 'Rush', 'Santana',\n",
    "       'Savage Garden', 'Scorpions', 'Selah',\n",
    "       'Side A', 'Slayer', 'Smiths', 'Soundgarden',\n",
    "       'Spandau Ballet', 'Squeeze', 'Starship', 'Status Quo',\n",
    "       'Steely Dan', 'Steve Miller Band', 'Stevie Ray Vaughan',\n",
    "       'Stevie Wonder', 'Sting', 'Stone Roses', 'Stone Temple Pilots',\n",
    "       'Styx', 'Sublime', 'Supertramp', 'System Of A Down',\n",
    "       'Talking Heads', 'Tears For Fears',\n",
    "       'The Temptations', 'Ten Years After', 'The Broadways',\n",
    "       'Thin Lizzy', 'Tiffany', 'Tim Buckley',\n",
    "       'Tim McGraw', 'Tina Turner', 'Tom Jones', 'Tom Lehrer',\n",
    "       'Tom T. Hall', 'Tom Waits', 'Tool', 'Tori Amos', 'Toto',\n",
    "       'Townes Van Zandt', 'Tracy Chapman', 'Tragically Hip', 'Train',\n",
    "       'Travis', 'Twenty One Pilots', 'U. D. O.', 'U-Kiss', 'U2', 'UB40',\n",
    "       'Ufo', 'Ugly Kid Joe', \"Ultramagnetic Mc's\", 'Ultravox',\n",
    "       'Uncle Kracker', 'Uncle Tupelo', 'Underoath', 'Underworld',\n",
    "       'Unearth', 'Unkle', 'Unknown', 'Unseen', 'Unwritten Law',\n",
    "       'Uriah Heep', 'Used', 'Utada Hikaru',\n",
    "       'Van Halen', 'Van Morrison', 'Vanessa Williams', 'Vangelis',\n",
    "       'Vanilla Ice', 'Velvet Underground', 'Vengaboys', 'Venom',\n",
    "       'Vera Lynn', 'Vertical Horizon', 'Veruca Salt', 'Verve',\n",
    "       'Vince Gill', 'Violent Femmes', 'Virgin Steele', 'Vonda Shepard',\n",
    "       'Vybz Kartel', 'Walk The Moon', 'Wanda Jackson', 'Wang Chung',\n",
    "       'Warren Zevon', 'W.A.S.P.', 'Waterboys', 'Waylon Jennings', 'Ween',\n",
    "       'Weezer', 'Weird Al Yankovic', 'Westlife', 'Wet Wet Wet', 'Wham!',\n",
    "       'Whiskeytown', 'The White Stripes', 'Whitesnake',\n",
    "       'Whitney Houston', 'Who', 'Widespread Panic',\n",
    "       'Willie Nelson', 'Wilson Phillips', 'Wilson Pickett',\n",
    "       'Wishbone Ash', 'Within Temptation', 'Wu-Tang Clan',\n",
    "       'Wyclef Jean', 'X', 'X Japan', 'X-Raided', 'X-Ray Spex', 'X-Treme',\n",
    "       'Xandria', 'Xavier Naidoo', 'Xavier Rudd', 'Xentrix', 'Xiu Xiu',\n",
    "       'Xscape', 'XTC', 'Xzibit', 'Yazoo', 'Yeah Yeah Yeahs', 'Yelawolf',\n",
    "       'Yello', 'Yellowcard', 'Yeng Constantino', 'Yes', 'YG',\n",
    "       'Ying Yang Twins', 'Yngwie Malmsteen', 'Yo Gotti', 'Yo La Tengo',\n",
    "       'Yoko Ono', 'Yolanda Adams', 'Yonder Mountain String Band',\n",
    "       'You Am I', 'Young Buck', 'Young Dro', 'Young Jeezy',\n",
    "       'Youngbloodz', 'Youth Of Today', 'Yukmouth', 'Yung Joc',\n",
    "       'Yusuf Islam', 'Z-Ro', 'Zac Brown Band', 'Zakk Wylde', 'Zao',\n",
    "       'Zebra', 'Zebrahead', 'Zed', 'Zero 7', 'Zeromancer',\n",
    "       'Ziggy Marley', 'Zoe', 'Zoegirl', 'Zornik', 'Zox', 'Zucchero',\n",
    "       'Zwan', 'ZZ Top', 'Joseph And The Amazing Technicolor Dreamcoat',\n",
    "       'Soundtracks', 'Van Der Graaf Generator', 'Various Artists',\n",
    "       'Zazie']"
   ]
  },
  {
   "cell_type": "code",
   "execution_count": 19,
   "metadata": {},
   "outputs": [],
   "source": [
    "for i in range(len(arr2)):\n",
    "    data = data.drop(data[data['artist'] == arr2[i]].index)"
   ]
  },
  {
   "cell_type": "code",
   "execution_count": 20,
   "metadata": {},
   "outputs": [],
   "source": [
    "data = data.reset_index(drop=True)"
   ]
  },
  {
   "cell_type": "code",
   "execution_count": 21,
   "metadata": {},
   "outputs": [
    {
     "data": {
      "text/html": [
       "<div>\n",
       "<style scoped>\n",
       "    .dataframe tbody tr th:only-of-type {\n",
       "        vertical-align: middle;\n",
       "    }\n",
       "\n",
       "    .dataframe tbody tr th {\n",
       "        vertical-align: top;\n",
       "    }\n",
       "\n",
       "    .dataframe thead th {\n",
       "        text-align: right;\n",
       "    }\n",
       "</style>\n",
       "<table border=\"1\" class=\"dataframe\">\n",
       "  <thead>\n",
       "    <tr style=\"text-align: right;\">\n",
       "      <th></th>\n",
       "      <th>artist</th>\n",
       "      <th>song</th>\n",
       "      <th>text</th>\n",
       "    </tr>\n",
       "  </thead>\n",
       "  <tbody>\n",
       "    <tr>\n",
       "      <th>0</th>\n",
       "      <td>Adele</td>\n",
       "      <td>All I Ask</td>\n",
       "      <td>[Verse 1]  \\r\\nI will leave my heart at the do...</td>\n",
       "    </tr>\n",
       "    <tr>\n",
       "      <th>1</th>\n",
       "      <td>Adele</td>\n",
       "      <td>Can't Let Go</td>\n",
       "      <td>[Verse 1]  \\r\\nWhen did it go wrong, I will ne...</td>\n",
       "    </tr>\n",
       "    <tr>\n",
       "      <th>2</th>\n",
       "      <td>Adele</td>\n",
       "      <td>Crazy For You</td>\n",
       "      <td>Found myself today singing out your name,  \\r\\...</td>\n",
       "    </tr>\n",
       "    <tr>\n",
       "      <th>3</th>\n",
       "      <td>Adele</td>\n",
       "      <td>Daydreamer</td>\n",
       "      <td>Daydreamer  \\r\\nSitting on the sea  \\r\\nSoakin...</td>\n",
       "    </tr>\n",
       "    <tr>\n",
       "      <th>4</th>\n",
       "      <td>Adele</td>\n",
       "      <td>Hello</td>\n",
       "      <td>[Verse 1]  \\r\\nHello, it's me  \\r\\nI was wonde...</td>\n",
       "    </tr>\n",
       "    <tr>\n",
       "      <th>...</th>\n",
       "      <td>...</td>\n",
       "      <td>...</td>\n",
       "      <td>...</td>\n",
       "    </tr>\n",
       "    <tr>\n",
       "      <th>7588</th>\n",
       "      <td>Zayn Malik</td>\n",
       "      <td>It's You</td>\n",
       "      <td>[Verse 1]  \\r\\nShe got, she got, she got  \\r\\n...</td>\n",
       "    </tr>\n",
       "    <tr>\n",
       "      <th>7589</th>\n",
       "      <td>Zayn Malik</td>\n",
       "      <td>Like I Would</td>\n",
       "      <td>[Verse 1]  \\r\\nHey what's up, it's been a whil...</td>\n",
       "    </tr>\n",
       "    <tr>\n",
       "      <th>7590</th>\n",
       "      <td>Zayn Malik</td>\n",
       "      <td>PillowTalk</td>\n",
       "      <td>[Verse 1]  \\r\\nClimb on board  \\r\\nWe'll go sl...</td>\n",
       "    </tr>\n",
       "    <tr>\n",
       "      <th>7591</th>\n",
       "      <td>Zayn Malik</td>\n",
       "      <td>Rear View</td>\n",
       "      <td>[Verse 1]  \\r\\nCan your heart be mine in searc...</td>\n",
       "    </tr>\n",
       "    <tr>\n",
       "      <th>7592</th>\n",
       "      <td>Zayn Malik</td>\n",
       "      <td>She</td>\n",
       "      <td>[Verse 1]  \\r\\nShe puts her spirit in a nightc...</td>\n",
       "    </tr>\n",
       "  </tbody>\n",
       "</table>\n",
       "<p>7593 rows × 3 columns</p>\n",
       "</div>"
      ],
      "text/plain": [
       "          artist           song  \\\n",
       "0          Adele      All I Ask   \n",
       "1          Adele   Can't Let Go   \n",
       "2          Adele  Crazy For You   \n",
       "3          Adele     Daydreamer   \n",
       "4          Adele          Hello   \n",
       "...          ...            ...   \n",
       "7588  Zayn Malik       It's You   \n",
       "7589  Zayn Malik   Like I Would   \n",
       "7590  Zayn Malik     PillowTalk   \n",
       "7591  Zayn Malik      Rear View   \n",
       "7592  Zayn Malik            She   \n",
       "\n",
       "                                                   text  \n",
       "0     [Verse 1]  \\r\\nI will leave my heart at the do...  \n",
       "1     [Verse 1]  \\r\\nWhen did it go wrong, I will ne...  \n",
       "2     Found myself today singing out your name,  \\r\\...  \n",
       "3     Daydreamer  \\r\\nSitting on the sea  \\r\\nSoakin...  \n",
       "4     [Verse 1]  \\r\\nHello, it's me  \\r\\nI was wonde...  \n",
       "...                                                 ...  \n",
       "7588  [Verse 1]  \\r\\nShe got, she got, she got  \\r\\n...  \n",
       "7589  [Verse 1]  \\r\\nHey what's up, it's been a whil...  \n",
       "7590  [Verse 1]  \\r\\nClimb on board  \\r\\nWe'll go sl...  \n",
       "7591  [Verse 1]  \\r\\nCan your heart be mine in searc...  \n",
       "7592  [Verse 1]  \\r\\nShe puts her spirit in a nightc...  \n",
       "\n",
       "[7593 rows x 3 columns]"
      ]
     },
     "execution_count": 21,
     "metadata": {},
     "output_type": "execute_result"
    }
   ],
   "source": [
    "data"
   ]
  },
  {
   "cell_type": "code",
   "execution_count": 22,
   "metadata": {},
   "outputs": [],
   "source": [
    "data.to_csv('visual.csv', index=False)"
   ]
  },
  {
   "cell_type": "code",
   "execution_count": 23,
   "metadata": {},
   "outputs": [],
   "source": [
    "from wordcloud import WordCloud\n",
    "\n",
    "# word = \" \".join(text for text in data.text)"
   ]
  },
  {
   "cell_type": "code",
   "execution_count": 24,
   "metadata": {},
   "outputs": [],
   "source": [
    "# word_cloud1 = WordCloud(collocations = False, background_color = 'white',\n",
    "#                         width = 2048, height = 1080).generate(word)\n",
    "# # saving the image\n",
    "# word_cloud1.to_file('got.png')"
   ]
  },
  {
   "cell_type": "code",
   "execution_count": 25,
   "metadata": {},
   "outputs": [],
   "source": [
    "# import matplotlib.pyplot as plt\n",
    "\n",
    "# plt.imshow(word_cloud1, interpolation='bilinear')\n",
    "# plt.axis(\"off\")\n",
    "# plt.show()"
   ]
  },
  {
   "cell_type": "code",
   "execution_count": 26,
   "metadata": {},
   "outputs": [],
   "source": [
    "data['text'] = data['text'].apply(lambda x: tokenization(x))"
   ]
  },
  {
   "cell_type": "code",
   "execution_count": 27,
   "metadata": {},
   "outputs": [],
   "source": [
    "from sklearn.feature_extraction.text import TfidfVectorizer\n",
    "from sklearn.metrics.pairwise import cosine_similarity"
   ]
  },
  {
   "cell_type": "code",
   "execution_count": 28,
   "metadata": {},
   "outputs": [],
   "source": [
    "tfidvector = TfidfVectorizer(analyzer='word',stop_words='english')\n",
    "matrix = tfidvector.fit_transform(data['text'])\n",
    "similarity = cosine_similarity(matrix)"
   ]
  },
  {
   "cell_type": "code",
   "execution_count": 29,
   "metadata": {},
   "outputs": [
    {
     "data": {
      "text/html": [
       "<div>\n",
       "<style scoped>\n",
       "    .dataframe tbody tr th:only-of-type {\n",
       "        vertical-align: middle;\n",
       "    }\n",
       "\n",
       "    .dataframe tbody tr th {\n",
       "        vertical-align: top;\n",
       "    }\n",
       "\n",
       "    .dataframe thead th {\n",
       "        text-align: right;\n",
       "    }\n",
       "</style>\n",
       "<table border=\"1\" class=\"dataframe\">\n",
       "  <thead>\n",
       "    <tr style=\"text-align: right;\">\n",
       "      <th></th>\n",
       "      <th>artist</th>\n",
       "      <th>song</th>\n",
       "      <th>text</th>\n",
       "    </tr>\n",
       "  </thead>\n",
       "  <tbody>\n",
       "    <tr>\n",
       "      <th>0</th>\n",
       "      <td>Adele</td>\n",
       "      <td>All I Ask</td>\n",
       "      <td>[ vers 1 ] i will leav my heart at the door i ...</td>\n",
       "    </tr>\n",
       "  </tbody>\n",
       "</table>\n",
       "</div>"
      ],
      "text/plain": [
       "  artist       song                                               text\n",
       "0  Adele  All I Ask  [ vers 1 ] i will leav my heart at the door i ..."
      ]
     },
     "execution_count": 29,
     "metadata": {},
     "output_type": "execute_result"
    }
   ],
   "source": [
    "data[data['song'] == 'All I Ask']"
   ]
  },
  {
   "cell_type": "code",
   "execution_count": 30,
   "metadata": {},
   "outputs": [],
   "source": [
    "def recommendation(song_df):\n",
    "    idx = data[data['song'] == song_df].index[0]\n",
    "    distances = sorted(list(enumerate(similarity[idx])),reverse=True,key=lambda x:x[1])\n",
    "    \n",
    "    songs = []\n",
    "    for m_id in distances[1:21]:\n",
    "        song_name = data.iloc[m_id[0]].song\n",
    "        artist_name = data.iloc[m_id[0]].artist\n",
    "        \n",
    "        songs.append({'song': song_name, 'artist': artist_name})\n",
    "        \n",
    "    return songs"
   ]
  },
  {
   "cell_type": "code",
   "execution_count": 31,
   "metadata": {},
   "outputs": [
    {
     "data": {
      "text/plain": [
       "[{'song': 'Falling Out Of Love', 'artist': 'John Denver'},\n",
       " {'song': 'Lost In Ya Love', 'artist': 'Chris Brown'},\n",
       " {'song': 'The Last Time', 'artist': 'Taylor Swift'},\n",
       " {'song': 'Like I Can', 'artist': 'Sam Smith'},\n",
       " {'song': 'Still', 'artist': 'Jennifer Lopez'},\n",
       " {'song': 'More Than That', 'artist': 'Backstreet Boys'},\n",
       " {'song': \"I'm Real\", 'artist': 'Jennifer Lopez'},\n",
       " {'song': 'Missing You', 'artist': 'Backstreet Boys'},\n",
       " {'song': 'I Will Be There', 'artist': 'Britney Spears'},\n",
       " {'song': 'Just To Hold You Once Again', 'artist': 'Mariah Carey'},\n",
       " {'song': 'Love Is', 'artist': 'The Script'},\n",
       " {'song': 'Friends And Lovers', 'artist': 'Bob Marley'},\n",
       " {'song': 'If It Were You', 'artist': 'Chicago'},\n",
       " {'song': 'Leave Your Lover', 'artist': 'Sam Smith'},\n",
       " {'song': 'This Is Us', 'artist': 'Backstreet Boys'},\n",
       " {'song': 'Lessons For The Lover', 'artist': 'Usher'},\n",
       " {'song': 'Memory Motel', 'artist': 'Rolling Stones'},\n",
       " {'song': 'Some Love', 'artist': 'Chaka Khan'},\n",
       " {'song': 'Friends', 'artist': 'Ed Sheeran'},\n",
       " {'song': 'When We Die', 'artist': 'Jason Mraz'}]"
      ]
     },
     "execution_count": 31,
     "metadata": {},
     "output_type": "execute_result"
    }
   ],
   "source": [
    "recommendation('All I Ask')"
   ]
  },
  {
   "cell_type": "code",
   "execution_count": 32,
   "metadata": {},
   "outputs": [],
   "source": [
    "import pickle\n",
    "pickle.dump(similarity,open('similarity.pkl','wb'))\n",
    "pickle.dump(data,open('df.pkl','wb'))"
   ]
  }
 ],
 "metadata": {
  "kernelspec": {
   "display_name": "stenv",
   "language": "python",
   "name": "python3"
  },
  "language_info": {
   "codemirror_mode": {
    "name": "ipython",
    "version": 3
   },
   "file_extension": ".py",
   "mimetype": "text/x-python",
   "name": "python",
   "nbconvert_exporter": "python",
   "pygments_lexer": "ipython3",
   "version": "3.10.2"
  }
 },
 "nbformat": 4,
 "nbformat_minor": 2
}
